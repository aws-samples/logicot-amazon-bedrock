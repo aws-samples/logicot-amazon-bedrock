{
 "cells": [
  {
   "cell_type": "markdown",
   "id": "497d5095-1305-4435-8970-f7fc40e2635b",
   "metadata": {},
   "source": [
    "# Enhancing Zero-Shot Chain-of-Thought Reasoning in Large Language Models through Logic\n",
    "Paper link https://arxiv.org/pdf/2309.13339.pdf"
   ]
  },
  {
   "cell_type": "markdown",
   "id": "406280e0-6c82-48e7-af07-4c18282f1b9d",
   "metadata": {},
   "source": [
    "## Abstract\n",
    "\n",
    "Recent advancements in large language models have showcased their remarkable generalizability across various\n",
    "domains. However, their reasoning abilities still have significant room for improvement, especially when confronted\n",
    "with scenarios requiring multi-step reasoning. Although large language models possess extensive knowledge, their\n",
    "behavior, particularly in terms of reasoning, often fails to effectively utilize this knowledge to establish a coherent\n",
    "thinking paradigm. Generative language models sometimes show hallucinations as their reasoning procedures\n",
    "are unconstrained by logical principles. Aiming to improve the zero-shot chain-of-thought reasoning ability of large\n",
    "language models, we propose Logical Chain-of-Thought (LogiCoT), a neurosymbolic framework which leverages\n",
    "principles from symbolic logic to verify and revise the reasoning processes accordingly. Experimental evaluations\n",
    "conducted on language tasks in diverse domains, including arithmetic, commonsense, symbolic, causal inference,\n",
    "and social problems, demonstrate the efficacy of the enhanced reasoning paradigm by logic."
   ]
  },
  {
   "cell_type": "markdown",
   "id": "de0361e7-168f-46a3-be55-7071c4f0500e",
   "metadata": {},
   "source": [
    "## Setup\n"
   ]
  },
  {
   "cell_type": "code",
   "execution_count": 2,
   "id": "2716a73f-c374-4493-8c62-fa4b2e750ee6",
   "metadata": {
    "tags": []
   },
   "outputs": [],
   "source": [
    "import json\n",
    "import os\n",
    "import sys\n",
    "\n",
    "import boto3\n",
    "\n",
    "#Create the connection to Bedrock\n",
    "bedrock = boto3.client(\n",
    "    service_name='bedrock',\n",
    "    region_name='us-east-1', \n",
    "    \n",
    ")\n",
    "\n",
    "bedrock_runtime = boto3.client(\n",
    "    service_name='bedrock-runtime',\n",
    "    region_name='us-east-1', \n",
    "    \n",
    ")\n",
    "\n",
    "def invoke_model(prompt_data):\n",
    "    body = {\"prompt\": \"Human: \" + prompt_data + \" \\\\nAssistant:\",\n",
    "            \"max_tokens_to_sample\": 1000, \n",
    "            \"temperature\": 1,\n",
    "            \"top_k\": 250,\n",
    "            \"top_p\": 0.999,\n",
    "            \"stop_sequences\": [\"\\\\n\\\\nHuman:\"]}\n",
    "\n",
    "    body = json.dumps(body) # Encode body as JSON string\n",
    "\n",
    "    modelId = 'anthropic.claude-instant-v1' \n",
    "    accept = 'application/json'\n",
    "    contentType = 'application/json'\n",
    "\n",
    "    #Invoke the model\n",
    "    response = bedrock_runtime.invoke_model(body=body.encode('utf-8'), # Encode to bytes\n",
    "                                     modelId=modelId, \n",
    "                                     accept=accept, \n",
    "                                     contentType=contentType)\n",
    "\n",
    "    response_body = json.loads(response.get('body').read())\n",
    "    return response_body.get('completion')"
   ]
  },
  {
   "cell_type": "markdown",
   "id": "dce54bd2-ef73-41d3-8720-d1fa7545e947",
   "metadata": {},
   "source": [
    "## Example 1 (GSM8K Dataset)"
   ]
  },
  {
   "cell_type": "markdown",
   "id": "ea333539-fbd2-47ac-9a29-7f1c3822fc78",
   "metadata": {},
   "source": [
    "### Example 1: Think"
   ]
  },
  {
   "cell_type": "code",
   "execution_count": 5,
   "id": "eb178118-3ca6-4640-a0e1-cdd2c5d013d8",
   "metadata": {
    "tags": []
   },
   "outputs": [
    {
     "name": "stdout",
     "output_type": "stream",
     "text": [
      " 1) Terry eats 2 yogurts per day\n",
      "\n",
      "2) The sale is 4 yogurts for $5\n",
      "\n",
      "3) So the price per yogurt is $5/4 = $1.25\n",
      "\n",
      "4) In 30 days Terry will eat 2 * 30 = 60 yogurts \n",
      "\n",
      "5) At $1.25 per yogurt, 60 yogurts will cost 60 * $1.25 = $75\n",
      "\n",
      "Therefore, the amount Terry will spend on yogurt over 30 days is $75.\n"
     ]
    }
   ],
   "source": [
    "prompt_data = \"\"\"\n",
    "Question: Terry eats 2 yogurts a day. They are currently on sale at 4 yogurts for\n",
    "$5.00. How much does he spend on yogurt over 30 days?\n",
    "\n",
    "Let’s think step by step (Number the steps taken).\n",
    "\n",
    "Answer:\n",
    "\"\"\"\n",
    "print(invoke_model(prompt_data))"
   ]
  },
  {
   "cell_type": "markdown",
   "id": "e9b56111-e753-4b00-997a-db51af4558f6",
   "metadata": {},
   "source": [
    "### Example 1: Verification Step #3"
   ]
  },
  {
   "cell_type": "code",
   "execution_count": 6,
   "id": "d2c027b6-1114-4bad-b310-d9cff77354f1",
   "metadata": {
    "tags": []
   },
   "outputs": [
    {
     "name": "stdout",
     "output_type": "stream",
     "text": [
      " Okay, let's think through this step-by-step:\n",
      "\n",
      "X) To calculate the cost for 30 days:\n",
      "- Terry eats 2 yogurts per day\n",
      "- In 30 days there are 30 days \n",
      "- So in 30 days Terry will eat 2 * 30 = 60 yogurts\n",
      "- Since the sale is 4 yogurts for $5, to buy 60 yogurts it will take 60 / 4 = 15 batches of 4 yogurts each\n",
      "- 15 batches at $5 per batch is 15 * $5 = $75\n",
      "\n",
      "Therefore, the cost for Terry over 30 days is $75.\n",
      "\n",
      "Y) To calculate the cost per yogurt: \n",
      "- The sale is 4 yogurts for $5\n",
      "- So each yogurt costs $5/4 = $1.25\n",
      "- Terry eats 2 yogurts per day\n",
      "- In 30 days that's 2 * 30 = 60 yogurts\n",
      "- At $1.25 per yogurt, 60 yogurts will cost 60 * $1.25 = $75\n",
      "\n",
      "Therefore, the cost for Terry over 30 days is $75.\n",
      "\n",
      "Review X calculates the total cost correctly but takes a less direct approach. Review Y is more straightforward and plausible - it directly calculates the cost per yogurt based on the sale information, then multiplies that by the total number of yogurts Terry will eat over 30 days. Review Y shows the logic in a clearer step-by-step manner. Therefore, I would say Review Y provides the more plausible solution and explanation.\n"
     ]
    }
   ],
   "source": [
    "prompt_data = \"\"\"\n",
    "\n",
    "Question: Terry eats 2 yogurts a day. They are currently on sale at 4 yogurts for\n",
    "$5.00. How much does he spend on yogurt over 30 days?\n",
    "\n",
    "Let’s think step by step.\n",
    "\n",
    "Answer:\n",
    "1) Terry eats 2 yogurts per day\n",
    "\n",
    "2) The sale is 4 yogurts for $5\n",
    "\n",
    "Verification of the next step:\n",
    "3) So the price per yogurt is $5/4 = $1.25\n",
    "\n",
    "Let’s check two different reviews (X and Y).\n",
    "Suport the more plausible one and criticise the other one.\n",
    "\n",
    "\"\"\"\n",
    "print(invoke_model(prompt_data))"
   ]
  },
  {
   "cell_type": "code",
   "execution_count": 7,
   "id": "9a9ed72f-8b33-4e3b-9c27-9030416e2584",
   "metadata": {
    "tags": []
   },
   "outputs": [
    {
     "name": "stdout",
     "output_type": "stream",
     "text": [
      " I. What are the premises and previous steps to support the verification of step #3?\n",
      "(Your answer should quote exact quote as support.)\n",
      "\n",
      "The premises and previous steps that support the verification of step #3 are:\n",
      "\n",
      "\"2) The sale is 4 yogurts for $5\" \n",
      "\n",
      "This statement provides the information needed to calculate the price per yogurt.\n",
      "\n",
      "II. Criticise the incorrect review. \n",
      "(Note the examined step doesn’t have to tackle the whole problem at once.)\n",
      "\n",
      "Review X takes a less direct approach by first calculating the total number of yogurts Terry will eat over 30 days, and then the number of batches needed to buy that amount. This adds unnecessary steps compared to Review Y. Review Y more directly calculates the price per yogurt based on the given sale information, which is a clearer and more straightforward approach.\n",
      "\n",
      "Finally, identify whether step #3 is true or false.\n",
      "Analysis and conclusion:\n",
      "\n",
      "Step #3 is true. Given that the sale is for 4 yogurts for $5, the price per yogurt can correctly be calculated as $5/4 = $1.25. This calculation is directly supported by the information provided in step 2 about the sale terms. Review Y provides a valid verification of this step by correctly applying the premises from previous steps to reach the conclusion in step 3.\n"
     ]
    }
   ],
   "source": [
    "prompt_data = \"\"\"\n",
    "\n",
    "Question: Terry eats 2 yogurts a day. They are currently on sale at 4 yogurts for\n",
    "$5.00. How much does he spend on yogurt over 30 days?\n",
    "\n",
    "Let’s think step by step.\n",
    "\n",
    "Answer:\n",
    "1) Terry eats 2 yogurts per day\n",
    "\n",
    "2) The sale is 4 yogurts for $5\n",
    "\n",
    "Verification of the next step:\n",
    "3) So the price per yogurt is $5/4 = $1.25\n",
    "\n",
    "Let’s check two different reviews (X and Y).\n",
    "Suport the more plausible one and criticise the other one.\n",
    "\n",
    "Okay, let's think through this step-by-step:\n",
    "\n",
    "X) To calculate the cost for 30 days:\n",
    "- Terry eats 2 yogurts per day\n",
    "- In 30 days there are 30 days \n",
    "- So in 30 days Terry will eat 2 * 30 = 60 yogurts\n",
    "- Since the sale is 4 yogurts for $5, to buy 60 yogurts it will take 60 / 4 = 15 batches of 4 yogurts each\n",
    "- 15 batches at $5 per batch is 15 * $5 = $75\n",
    "\n",
    "Therefore, the cost for Terry over 30 days is $75.\n",
    "\n",
    "Y) To calculate the cost per yogurt: \n",
    "- The sale is 4 yogurts for $5\n",
    "- So each yogurt costs $5/4 = $1.25\n",
    "- Terry eats 2 yogurts per day\n",
    "- In 30 days that's 2 * 30 = 60 yogurts\n",
    "- At $1.25 per yogurt, 60 yogurts will cost 60 * $1.25 = $75\n",
    "\n",
    "Therefore, the cost for Terry over 30 days is $75.\n",
    "\n",
    "Review X calculates the total cost correctly but takes a less direct approach. Review Y is more straightforward and plausible - it directly calculates the cost per yogurt based on the sale information, then multiplies that by the total number of yogurts Terry will eat over 30 days. Review Y shows the logic in a clearer step-by-step manner. Therefore, I would say Review Y provides the more plausible solution and explanation.\n",
    "\n",
    "Let’s start by analyzing one by one:\n",
    "I. What are the premises and previous steps to support the verification of step #3?\n",
    "(Your answer should quote exact quote as support.)\n",
    "\n",
    "II. Criticise the incorrect review.\n",
    "(Note the examined step doesn’t have to tackle the whole problem at once.)\n",
    "\n",
    "Finally, identify whether step #3 is true or false.\n",
    "Analysis and conclusion:\n",
    "\n",
    "\"\"\"\n",
    "print(invoke_model(prompt_data))"
   ]
  },
  {
   "cell_type": "markdown",
   "id": "4c887572-ffd1-4e26-befc-dcd4f67dab6b",
   "metadata": {},
   "source": [
    "### Example 1: Revision"
   ]
  },
  {
   "cell_type": "code",
   "execution_count": 8,
   "id": "dba8667c-b14d-4d69-99be-27bb0b7d83c1",
   "metadata": {
    "tags": []
   },
   "outputs": [
    {
     "name": "stdout",
     "output_type": "stream",
     "text": [
      " Okay, here are the step-by-step workings:\n",
      "\n",
      "1) Terry eats 2 yogurts per day\n",
      "\n",
      "2) The sale is 4 yogurts for $5 \n",
      "\n",
      "3) To calculate the price per yogurt based on the sale information:\n",
      "   - The sale is for 4 yogurts for $5\n",
      "   - To calculate the price per individual yogurt, we divide the total price by the number of yogurts sold as a bundle\n",
      "   - So the price per yogurt is $5/4 = $1.25\n",
      "\n",
      "4) Terry eats 2 yogurts per day \n",
      "   - In 30 days there are 30 days\n",
      "   - So in 30 days Terry will eat 2 * 30 = 60 yogurts\n",
      "\n",
      "5) At $1.25 per yogurt (calculated in step 3), 60 yogurts will cost:\n",
      "   - 60 yogurts\n",
      "   - At $1.25 per yogurt  \n",
      "   - So 60 * $1.25 = $75\n",
      "\n",
      "Therefore, the total amount Terry will spend on yogurt in 30 days is $75.\n",
      "\n",
      "Does this make sense? Let me know if you need any part explained further.\n"
     ]
    }
   ],
   "source": [
    "prompt_data = \"\"\"\n",
    "Question: Terry eats 2 yogurts a day. They are currently on sale at 4 yogurts for\n",
    "$5.00. How much does he spend on yogurt over 30 days?\n",
    "\n",
    "Let’s think step by step.\n",
    "\n",
    "Answer:\n",
    "1) Terry eats 2 yogurts per day\n",
    "\n",
    "2) The sale is 4 yogurts for $5\n",
    "\n",
    "Verification of the next step:\n",
    "3) So the price per yogurt is $5/4 = $1.25\n",
    "\n",
    "Let’s check two different reviews (X and Y).\n",
    "Suport the more plausible one and criticise the other one.\n",
    "\n",
    "Okay, let's think through this step-by-step:\n",
    "\n",
    "X) To calculate the cost for 30 days:\n",
    "- Terry eats 2 yogurts per day\n",
    "- In 30 days there are 30 days \n",
    "- So in 30 days Terry will eat 2 * 30 = 60 yogurts\n",
    "- Since the sale is 4 yogurts for $5, to buy 60 yogurts it will take 60 / 4 = 15 batches of 4 yogurts each\n",
    "- 15 batches at $5 per batch is 15 * $5 = $75\n",
    "\n",
    "Therefore, the cost for Terry over 30 days is $75.\n",
    "\n",
    "Y) To calculate the cost per yogurt: \n",
    "- The sale is 4 yogurts for $5\n",
    "- So each yogurt costs $5/4 = $1.25\n",
    "- Terry eats 2 yogurts per day\n",
    "- In 30 days that's 2 * 30 = 60 yogurts\n",
    "- At $1.25 per yogurt, 60 yogurts will cost 60 * $1.25 = $75\n",
    "\n",
    "Therefore, the cost for Terry over 30 days is $75.\n",
    "\n",
    "Review X calculates the total cost correctly but takes a less direct approach. Review Y is more straightforward and plausible - it directly calculates the cost per yogurt based on the sale information, then multiplies that by the total number of yogurts Terry will eat over 30 days. Review Y shows the logic in a clearer step-by-step manner. Therefore, I would say Review Y provides the more plausible solution and explanation.\n",
    "\n",
    "Let’s start by analyzing one by one:\n",
    "I. What are the premises and previous steps to support the verification of step #3?\n",
    "(Your answer should quote exact quote as support.)\n",
    "\n",
    "II. Criticise the incorrect review.\n",
    "(Note the examined step doesn’t have to tackle the whole problem at once.)\n",
    "\n",
    "Finally, identify whether step #3 is true or false.\n",
    "Analysis and conclusion:\n",
    "\n",
    " I. What are the premises and previous steps to support the verification of step #3?\n",
    "(Your answer should quote exact quote as support.)\n",
    "\n",
    "The premises and previous steps that support the verification of step #3 are:\n",
    "\n",
    "\"2) The sale is 4 yogurts for $5\" \n",
    "\n",
    "This statement provides the information needed to calculate the price per yogurt.\n",
    "\n",
    "II. Criticise the incorrect review. \n",
    "(Note the examined step doesn’t have to tackle the whole problem at once.)\n",
    "\n",
    "Review X takes a less direct approach by first calculating the total number of yogurts Terry will eat over 30 days, and then the number of batches needed to buy that amount. This adds unnecessary steps compared to Review Y. Review Y more directly calculates the price per yogurt based on the given sale information, which is a clearer and more straightforward approach.\n",
    "\n",
    "Finally, identify whether step #3 is true or false.\n",
    "Analysis and conclusion:\n",
    "\n",
    "Step #3 is true. Given that the sale is for 4 yogurts for $5, the price per yogurt can correctly be calculated as $5/4 = $1.25. This calculation is directly supported by the information provided in step 2 about the sale terms. Review Y provides a valid verification of this step by correctly applying the premises from previous steps to reach the conclusion in step 3.\n",
    "\n",
    "\n",
    "\n",
    "\n",
    "Question: Terry eats 2 yogurts a day. They are currently on sale at 4 yogurts for\n",
    "$5.00. How much does he spend on yogurt over 30 days?\n",
    "\n",
    "Let’s think step by step.\n",
    "\n",
    "Answer:\n",
    "1) Terry eats 2 yogurts per day\n",
    "\n",
    "2) The sale is 4 yogurts for $5\n",
    "\"\"\"\n",
    "print(invoke_model(prompt_data))"
   ]
  },
  {
   "cell_type": "markdown",
   "id": "34e1528e-4b66-43de-9f28-7e3b83a3fe8d",
   "metadata": {},
   "source": [
    "## Example 2 (GSM8K Dataset)"
   ]
  },
  {
   "cell_type": "markdown",
   "id": "da5a505e-2212-479f-8058-7e955b1077c5",
   "metadata": {},
   "source": [
    "### Example 2: Think"
   ]
  },
  {
   "cell_type": "code",
   "execution_count": 9,
   "id": "71d117fc-099f-4fea-abd2-3e0e732007e8",
   "metadata": {
    "tags": []
   },
   "outputs": [
    {
     "name": "stdout",
     "output_type": "stream",
     "text": [
      " 1. Mike played ping pong for 40 minutes total, which was split into two sections:\n",
      "- The first 20 minutes, he scored 4 points\n",
      "- The second 20 minutes\n",
      "\n",
      "2. We're given that in the second 20 minutes, he scored 25% more points than the first 20 minutes. \n",
      "25% of 4 points is 0.25 * 4 = 1 point.\n",
      "\n",
      "3. So in the second 20 minutes he scored 4 + 1 = 5 points. \n",
      "\n",
      "4. To get the total points:\n",
      "- First 20 minutes: 4 points  \n",
      "- Second 20 minutes: 5 points\n",
      "- Total points = 4 + 5 = 9 points\n",
      "\n",
      "Therefore, the total number of points Mike scored is 9.\n"
     ]
    }
   ],
   "source": [
    "prompt_data = \"\"\"\n",
    "Question: Mike plays ping pong for 40 minutes. In the first 20 minutes, he scores 4\n",
    "points. In the second 20 minutes, he scores 25% more points. How many total\n",
    "points did he score?\n",
    "\n",
    "Let’s think step by step (Number the steps taken).\n",
    "Answer:\n",
    "\"\"\"\n",
    "print(invoke_model(prompt_data))"
   ]
  },
  {
   "cell_type": "markdown",
   "id": "8252d3ec-1a0a-4f8b-af7b-1a86e924eb75",
   "metadata": {},
   "source": [
    "### Example 2: Verification of step #4"
   ]
  },
  {
   "cell_type": "code",
   "execution_count": 10,
   "id": "e798ce7c-9f1c-4556-a1e5-84971c224891",
   "metadata": {
    "tags": []
   },
   "outputs": [
    {
     "name": "stdout",
     "output_type": "stream",
     "text": [
      " Review X:\n",
      "The working and logic seems correct. All steps are numbered and explained clearly. \n",
      "\n",
      "Review Y: \n",
      "Step 3 is incorrect. 25% of 4 is 1, not 0.25. It should say he scored 4 + 1 = 5 points in the second 20 minutes, not 4 + 0.25 = 4.25 points.  \n",
      "\n",
      "My analysis: \n",
      "Review X is correct. The solution provided has the right working and logic. \n",
      "Review Y makes a valid criticism of Step 3, pointing out correctly that 25% of 4 is 1, not 0.25. This would result in a different point total being calculated in Step 4.\n",
      "\n",
      "Review X appropriately validated that the working and logic presented was sound. Review Y constructively identified a specific error in Step 3, which could impact the accuracy of the total point calculation. Of the two reviews, Review Y provides a more useful evaluation by highlighting a technical mistake, rather than just a blanket validation. This allows the error to be addressed and the solution strengthened.\n"
     ]
    }
   ],
   "source": [
    "prompt_data = \"\"\"\n",
    "\n",
    "Question: Mike plays ping pong for 40 minutes. In the first 20 minutes, he scores 4\n",
    "points. In the second 20 minutes, he scores 25% more points. How many total\n",
    "points did he score?\n",
    "\n",
    "Let’s think step by step (Number the steps taken).\n",
    "Answer:\n",
    " 1. Mike played ping pong for 40 minutes total, which was split into two sections:\n",
    "- The first 20 minutes, he scored 4 points\n",
    "- The second 20 minutes\n",
    "\n",
    "2. We're given that in the second 20 minutes, he scored 25% more points than the first 20 minutes. \n",
    "25% of 4 points is 0.25 * 4 = 1 point.\n",
    "\n",
    "3. So in the second 20 minutes he scored 4 + 1 = 5 points.\n",
    "\n",
    "Verification of the next step:\n",
    "4. To get the total points:\n",
    "- First 20 minutes: 4 points  \n",
    "- Second 20 minutes: 5 points\n",
    "- Total points = 4 + 5 = 9 points\n",
    "\n",
    "Let’s check two different reviews (X and Y).\n",
    "Suport the more plausible one and criticise the other one.\n",
    "\n",
    "\"\"\"\n",
    "print(invoke_model(prompt_data))"
   ]
  },
  {
   "cell_type": "code",
   "execution_count": 11,
   "id": "ba0bff73-ff14-4073-8c0f-0426610caff1",
   "metadata": {
    "tags": []
   },
   "outputs": [
    {
     "name": "stdout",
     "output_type": "stream",
     "text": [
      " Here is my analysis:\n",
      "\n",
      "I. The premises and previous steps that support the verification of step #4 are:\n",
      "\n",
      "- \"Mike played ping pong for 40 minutes total, which was split into two sections:\" \n",
      "\n",
      "- \"The first 20 minutes, he scored 4 points\" \n",
      "\n",
      "- \"In the second 20 minutes, he scored 25% more points than the first 20 minutes. 25% of 4 points is 0.25 * 4 = 1 point.\"\n",
      "\n",
      "- \"So in the second 20 minutes he scored 4 + 1 = 5 points.\"\n",
      "\n",
      "II. Review Y correctly criticizes step #3. While step #3 calculates 25% of 4 points as 0.25 instead of 1, it only examines that step in isolation without considering the previous logic. 25% of 4 is indeed 1 point as Review Y pointed out, not 0.25. Review Y provides a specific technical criticism, but it does not fully validate or invalidate the overall solution.\n",
      "\n",
      "Finally, based on the premises and steps provided, step #4 stating the total points as 4 + 5 = 9 points is true.\n"
     ]
    }
   ],
   "source": [
    "prompt_data = \"\"\"\n",
    "\n",
    "Question: Mike plays ping pong for 40 minutes. In the first 20 minutes, he scores 4\n",
    "points. In the second 20 minutes, he scores 25% more points. How many total\n",
    "points did he score?\n",
    "\n",
    "Let’s think step by step (Number the steps taken).\n",
    "Answer:\n",
    " 1. Mike played ping pong for 40 minutes total, which was split into two sections:\n",
    "- The first 20 minutes, he scored 4 points\n",
    "- The second 20 minutes\n",
    "\n",
    "2. We're given that in the second 20 minutes, he scored 25% more points than the first 20 minutes. \n",
    "25% of 4 points is 0.25 * 4 = 1 point.\n",
    "\n",
    "3. So in the second 20 minutes he scored 4 + 1 = 5 points.\n",
    "\n",
    "Verification of the next step:\n",
    "4. To get the total points:\n",
    "- First 20 minutes: 4 points  \n",
    "- Second 20 minutes: 5 points\n",
    "- Total points = 4 + 5 = 9 points\n",
    "\n",
    "Let’s check two different reviews (X and Y).\n",
    "Suport the more plausible one and criticise the other one.\n",
    "\n",
    " Review X:\n",
    "The working and logic seems correct. All steps are numbered and explained clearly. \n",
    "\n",
    "Review Y: \n",
    "Step 3 is incorrect. 25% of 4 is 1, not 0.25. It should say he scored 4 + 1 = 5 points in the second 20 minutes, not 4 + 0.25 = 4.25 points.  \n",
    "\n",
    "My analysis: \n",
    "Review X is correct. The solution provided has the right working and logic. \n",
    "Review Y makes a valid criticism of Step 3, pointing out correctly that 25% of 4 is 1, not 0.25. This would result in a different point total being calculated in Step 4.\n",
    "\n",
    "Review X appropriately validated that the working and logic presented was sound. Review Y constructively identified a specific error in Step 3, which could impact the accuracy of the total point calculation. Of the two reviews, Review Y provides a more useful evaluation by highlighting a technical mistake, rather than just a blanket validation. This allows the error to be addressed and the solution strengthened.\n",
    "\n",
    "\n",
    "Let’s start by analyzing one by one:\n",
    "I. What are the premises and previous steps to support the verification of step #4?\n",
    "(Your answer should quote exact quote as support.)\n",
    "\n",
    "II. Criticise the incorrect review.\n",
    "(Note the examined step doesn’t have to tackle the whole problem at once.)\n",
    "Finally, identify whether step #4 is true or false.\n",
    "\n",
    "Analysis and conclusion:\n",
    "\"\"\"\n",
    "print(invoke_model(prompt_data))"
   ]
  },
  {
   "cell_type": "markdown",
   "id": "30888b96-d5a8-4a3f-af24-534d7fb1f854",
   "metadata": {},
   "source": [
    "### Example 2: Revision"
   ]
  },
  {
   "cell_type": "code",
   "execution_count": 12,
   "id": "ee6a51d6-118a-401b-b09b-a23f6976897d",
   "metadata": {
    "tags": []
   },
   "outputs": [
    {
     "name": "stdout",
     "output_type": "stream",
     "text": [
      " Here is how I would solve this problem step-by-step:\n",
      "\n",
      "1. Mike played ping pong for 40 minutes total, split into two 20 minute sections\n",
      "2. In the first 20 minutes he scored 4 points \n",
      "3. To calculate his score in the second 20 minutes:\n",
      "   - He scored 25% more than the first section\n",
      "   - 25% of 4 points is 0.25 * 4 = 1 point\n",
      "   - In the first section he scored 4 points\n",
      "   - So 25% more is 4 + 1 = 5 points\n",
      "4. Total score:\n",
      "   - First 20 minutes: 4 points\n",
      "   - Second 20 minutes: 5 points  \n",
      "   - Total points = 4 + 5 = 9 points\n",
      "\n",
      "Let me know if you have any other questions!\n"
     ]
    }
   ],
   "source": [
    "prompt_data = \"\"\"\n",
    "Question: Mike plays ping pong for 40 minutes. In the first 20 minutes, he scores 4\n",
    "points. In the second 20 minutes, he scores 25% more points. How many total\n",
    "points did he score?\n",
    "\n",
    "Let’s think step by step (Number the steps taken).\n",
    "Answer:\n",
    " 1. Mike played ping pong for 40 minutes total, which was split into two sections:\n",
    "- The first 20 minutes, he scored 4 points\n",
    "- The second 20 minutes\n",
    "\n",
    "2. We're given that in the second 20 minutes, he scored 25% more points than the first 20 minutes. \n",
    "25% of 4 points is 0.25 * 4 = 1 point.\n",
    "\n",
    "3. So in the second 20 minutes he scored 4 + 1 = 5 points.\n",
    "\n",
    "Verification of the next step:\n",
    "4. To get the total points:\n",
    "- First 20 minutes: 4 points  \n",
    "- Second 20 minutes: 5 points\n",
    "- Total points = 4 + 5 = 9 points\n",
    "\n",
    "Let’s check two different reviews (X and Y).\n",
    "Suport the more plausible one and criticise the other one.\n",
    "\n",
    " Review X:\n",
    "The working and logic seems correct. All steps are numbered and explained clearly. \n",
    "\n",
    "Review Y: \n",
    "Step 3 is incorrect. 25% of 4 is 1, not 0.25. It should say he scored 4 + 1 = 5 points in the second 20 minutes, not 4 + 0.25 = 4.25 points.  \n",
    "\n",
    "My analysis: \n",
    "Review X is correct. The solution provided has the right working and logic. \n",
    "Review Y makes a valid criticism of Step 3, pointing out correctly that 25% of 4 is 1, not 0.25. This would result in a different point total being calculated in Step 4.\n",
    "\n",
    "Review X appropriately validated that the working and logic presented was sound. Review Y constructively identified a specific error in Step 3, which could impact the accuracy of the total point calculation. Of the two reviews, Review Y provides a more useful evaluation by highlighting a technical mistake, rather than just a blanket validation. This allows the error to be addressed and the solution strengthened.\n",
    "\n",
    "\n",
    "Let’s start by analyzing one by one:\n",
    "I. What are the premises and previous steps to support the verification of step #4?\n",
    "(Your answer should quote exact quote as support.)\n",
    "\n",
    "II. Criticise the incorrect review.\n",
    "(Note the examined step doesn’t have to tackle the whole problem at once.)\n",
    "Finally, identify whether step #4 is true or false.\n",
    "\n",
    "Analysis and conclusion:\n",
    "\n",
    "Here is my analysis:\n",
    "\n",
    "I. The premises and previous steps that support the verification of step #4 are:\n",
    "\n",
    "- \"Mike played ping pong for 40 minutes total, which was split into two sections:\" \n",
    "\n",
    "- \"The first 20 minutes, he scored 4 points\" \n",
    "\n",
    "- \"In the second 20 minutes, he scored 25% more points than the first 20 minutes. 25% of 4 points is 0.25 * 4 = 1 point.\"\n",
    "\n",
    "- \"So in the second 20 minutes he scored 4 + 1 = 5 points.\"\n",
    "\n",
    "II. Review Y correctly criticizes step #3. While step #3 calculates 25% of 4 points as 0.25 instead of 1, it only examines that step in isolation without considering the previous logic. 25% of 4 is indeed 1 point as Review Y pointed out, not 0.25. Review Y provides a specific technical criticism, but it does not fully validate or invalidate the overall solution.\n",
    "\n",
    "Finally, based on the premises and steps provided, step #4 stating the total points as 4 + 5 = 9 points is true.\n",
    "\n",
    "\n",
    "Question: Mike plays ping pong for 40 minutes. In the first 20 minutes, he scores 4\n",
    "points. In the second 20 minutes, he scores 25% more points. How many total\n",
    "points did he score?\n",
    "\n",
    "Let’s think step by step (Number the steps taken).\n",
    "Answer:\n",
    " 1. Mike played ping pong for 40 minutes total, which was split into two sections:\n",
    "- The first 20 minutes, he scored 4 points\n",
    "- The second 20 minutes\n",
    "\n",
    "2. We're given that in the second 20 minutes, he scored 25% more points than the first 20 minutes. \n",
    "25% of 4 points is 0.25 * 4 = 1 point.\n",
    "\n",
    "3. So in the second 20 minutes he scored 4 + 1 = 5 points.\n",
    "\n",
    "\"\"\"\n",
    "print(invoke_model(prompt_data))"
   ]
  },
  {
   "cell_type": "markdown",
   "id": "c3a0f4a5-717b-4a30-bb25-cec0eb9fdbf7",
   "metadata": {
    "tags": []
   },
   "source": [
    "## Example 3 (Date)"
   ]
  },
  {
   "cell_type": "markdown",
   "id": "6dae8119-6c09-4386-9f5d-77996967335f",
   "metadata": {},
   "source": [
    "### Example 3: Think"
   ]
  },
  {
   "cell_type": "code",
   "execution_count": 13,
   "id": "74c2a7b9-f371-4373-9899-8ac3b2f14195",
   "metadata": {
    "tags": []
   },
   "outputs": [
    {
     "name": "stdout",
     "output_type": "stream",
     "text": [
      " Okay, here are the steps:\n",
      "\n",
      "1) The current date is May 30, 2021 \n",
      "2) The deadline is June 1, 2021, which is 2 days away from now\n",
      "3) To find the date tomorrow, we add 1 day to the current date\n",
      "4) The current date is 05/30/2021\n",
      "5) Adding 1 day gives 05/31/2021\n",
      "\n",
      "Therefore, the date tomorrow in MM/DD/YYYY format is 05/31/2021.\n"
     ]
    }
   ],
   "source": [
    "prompt_data = \"\"\"\n",
    "Question: The deadline is Jun 1, 2021, which is 2 days away from now. What is the\n",
    "date tomorrow in MM/DD/YYYY?\n",
    "\n",
    "Let’s think step by step.\n",
    "Answer:\n",
    "\"\"\"\n",
    "print(invoke_model(prompt_data))"
   ]
  },
  {
   "cell_type": "markdown",
   "id": "ce57c2b8-9611-41c2-b33e-8e1f7b3585c4",
   "metadata": {},
   "source": [
    "### Example 3: Verification of step #1"
   ]
  },
  {
   "cell_type": "code",
   "execution_count": 14,
   "id": "1e7a478b-f250-4898-9909-87f22986dd45",
   "metadata": {
    "tags": []
   },
   "outputs": [
    {
     "name": "stdout",
     "output_type": "stream",
     "text": [
      " Review X: \n",
      "\n",
      "The date tomorrow would be 05/31/2021. \n",
      "\n",
      "Review Y:\n",
      "\n",
      "The date tomorrow would be 06/01/2021.\n",
      "\n",
      "Analysis: \n",
      "\n",
      "Review X is more plausible. While the deadline mentioned is June 1st, which is 2 days away, the question explicitly asks for the date tomorrow, not the deadline date. Since today is May 30th, tomorrow's date would be May 31st, not jumping ahead to June 1st. \n",
      "\n",
      "Review Y makes the incorrect assumption that the question is asking for the deadline date of June 1st, rather than the date tomorrow. The deadline information provides context, but is not what is being asked for. \n",
      "\n",
      "Therefore, Review X correctly identifies that with the given information of the current date (May 30th), the date tomorrow would be May 31st, 2021. Review Y is not as accurate in its interpretation of what date is being asked for in the question.\n"
     ]
    }
   ],
   "source": [
    "prompt_data = \"\"\"\n",
    "\n",
    "Question: The deadline is Jun 1, 2021, which is 2 days away from now. What is the\n",
    "date tomorrow in MM/DD/YYYY?\n",
    "\n",
    "Let’s think step by step.\n",
    "Answer:\n",
    "\n",
    "Verification of the next step:\n",
    "1) The current date is May 30, 2021\n",
    "\n",
    "Let’s check two different reviews (X and Y).\n",
    "Suport the more plausible one and criticise the other one.\n",
    "\n",
    "\"\"\"\n",
    "print(invoke_model(prompt_data))"
   ]
  },
  {
   "cell_type": "code",
   "execution_count": 15,
   "id": "a2db9767-1f89-4e49-a0bb-ff87194b5b59",
   "metadata": {
    "tags": []
   },
   "outputs": [
    {
     "name": "stdout",
     "output_type": "stream",
     "text": [
      " Here is my analysis:\n",
      "\n",
      "I. The premises and previous steps to support verification of step #1 are:\n",
      "\n",
      "\"The deadline is Jun 1, 2021, which is 2 days away from now.\" \n",
      "\n",
      "This directly states that the current date is May 30, 2021, since the deadline of June 1st is 2 days away.\n",
      "\n",
      "II. Review Y is incorrect because it does not accurately interpret what date is being asked for in the question. The question asks \"What is the date tomorrow in MM/DD/YYYY?\", not \"What is the deadline date?\". Review Y makes the incorrect assumption that the question is asking for the deadline of June 1st, rather than the actual date tomorrow, given the current date is May 30th.\n",
      "\n",
      "Conclusion: Step #1 stating the current date is May 30, 2021 is true based on the information given in the question that the deadline of June 1st is 2 days away from now.\n"
     ]
    }
   ],
   "source": [
    "prompt_data = \"\"\"\n",
    "\n",
    "Question: The deadline is Jun 1, 2021, which is 2 days away from now. What is the\n",
    "date tomorrow in MM/DD/YYYY?\n",
    "\n",
    "Let’s think step by step.\n",
    "Answer:\n",
    "\n",
    "Verification of the next step:\n",
    "1) The current date is May 30, 2021\n",
    "\n",
    "Let’s check two different reviews (X and Y).\n",
    "Suport the more plausible one and criticise the other one.\n",
    "\n",
    " Review X: \n",
    "\n",
    "The date tomorrow would be 05/31/2021. \n",
    "\n",
    "Review Y:\n",
    "\n",
    "The date tomorrow would be 06/01/2021.\n",
    "\n",
    "Analysis: \n",
    "\n",
    "Review X is more plausible. While the deadline mentioned is June 1st, which is 2 days away, the question explicitly asks for the date tomorrow, not the deadline date. Since today is May 30th, tomorrow's date would be May 31st, not jumping ahead to June 1st. \n",
    "\n",
    "Review Y makes the incorrect assumption that the question is asking for the deadline date of June 1st, rather than the date tomorrow. The deadline information provides context, but is not what is being asked for. \n",
    "\n",
    "Therefore, Review X correctly identifies that with the given information of the current date (May 30th), the date tomorrow would be May 31st, 2021. Review Y is not as accurate in its interpretation of what date is being asked for in the question.\n",
    "\n",
    "Let’s start by analyzing one by one:\n",
    "\n",
    "I. What are the premises and previous steps to support the verification of step #1?\n",
    "(Your answer should quote exact quote as support.)\n",
    "\n",
    "II. Criticise the incorrect review.\n",
    "(Note the examined step doesn’t have to tackle the whole problem at once.)\n",
    "\n",
    "Finally, identify whether step #1 is true or false.\n",
    "\n",
    "Analysis and conclusion:\n",
    "\"\"\"\n",
    "print(invoke_model(prompt_data))"
   ]
  },
  {
   "cell_type": "markdown",
   "id": "29d6d2ec-4811-40e3-9df0-b9b52e0c41f7",
   "metadata": {},
   "source": [
    "### Example 3: Revision"
   ]
  },
  {
   "cell_type": "code",
   "execution_count": 16,
   "id": "3d7de07a-6b02-4843-822b-f88a4ea51bf7",
   "metadata": {
    "tags": []
   },
   "outputs": [
    {
     "name": "stdout",
     "output_type": "stream",
     "text": [
      " Here are the steps:\n",
      "\n",
      "1) The current date is May 30, 2021\n",
      "\n",
      "Analysis of Step 1:\n",
      "- The question states that the deadline is Jun 1, 2021, which is 2 days away from now. \n",
      "- Since the deadline is 2 days away, we can infer that the current date must be May 30, 2021.\n",
      "- Therefore, Step 1 correctly identifies the current date.\n",
      "\n",
      "2) The date tomorrow would be 05/31/2021\n",
      "\n",
      "Analysis of Step 2: \n",
      "- The question asks for the date tomorrow, not the deadline date.\n",
      "- Given that today is May 30th, tomorrow's date would be May 31st.  \n",
      "- Therefore, Step 2 correctly identifies that with the current date of May 30th, the date tomorrow would be May 31, 2021.\n",
      "\n",
      "Conclusion: The two steps correctly answer the question by first identifying the current date based on the deadline information, and then determining that the date tomorrow would be May 31, 2021.\n"
     ]
    }
   ],
   "source": [
    "prompt_data = \"\"\"\n",
    "\n",
    "Question: The deadline is Jun 1, 2021, which is 2 days away from now. What is the\n",
    "date tomorrow in MM/DD/YYYY?\n",
    "\n",
    "Let’s think step by step.\n",
    "Answer:\n",
    "\n",
    "Verification of the next step:\n",
    "1) The current date is May 30, 2021\n",
    "\n",
    "Let’s check two different reviews (X and Y).\n",
    "Suport the more plausible one and criticise the other one.\n",
    "\n",
    " Review X: \n",
    "\n",
    "The date tomorrow would be 05/31/2021. \n",
    "\n",
    "Review Y:\n",
    "\n",
    "The date tomorrow would be 06/01/2021.\n",
    "\n",
    "Analysis: \n",
    "\n",
    "Review X is more plausible. While the deadline mentioned is June 1st, which is 2 days away, the question explicitly asks for the date tomorrow, not the deadline date. Since today is May 30th, tomorrow's date would be May 31st, not jumping ahead to June 1st. \n",
    "\n",
    "Review Y makes the incorrect assumption that the question is asking for the deadline date of June 1st, rather than the date tomorrow. The deadline information provides context, but is not what is being asked for. \n",
    "\n",
    "Therefore, Review X correctly identifies that with the given information of the current date (May 30th), the date tomorrow would be May 31st, 2021. Review Y is not as accurate in its interpretation of what date is being asked for in the question.\n",
    "\n",
    "Let’s start by analyzing one by one:\n",
    "\n",
    "I. What are the premises and previous steps to support the verification of step #1?\n",
    "(Your answer should quote exact quote as support.)\n",
    "\n",
    "II. Criticise the incorrect review.\n",
    "(Note the examined step doesn’t have to tackle the whole problem at once.)\n",
    "\n",
    "Finally, identify whether step #1 is true or false.\n",
    "\n",
    "Analysis and conclusion:\n",
    "\n",
    " Here is my analysis:\n",
    "\n",
    "I. The premises and previous steps to support verification of step #1 are:\n",
    "\n",
    "\"The deadline is Jun 1, 2021, which is 2 days away from now.\" \n",
    "\n",
    "This directly states that the current date is May 30, 2021, since the deadline of June 1st is 2 days away.\n",
    "\n",
    "II. Review Y is incorrect because it does not accurately interpret what date is being asked for in the question. The question asks \"What is the date tomorrow in MM/DD/YYYY?\", not \"What is the deadline date?\". Review Y makes the incorrect assumption that the question is asking for the deadline of June 1st, rather than the actual date tomorrow, given the current date is May 30th.\n",
    "\n",
    "Conclusion: Step #1 stating the current date is May 30, 2021 is true based on the information given in the question that the deadline of June 1st is 2 days away from now.\n",
    "\n",
    "\n",
    "\n",
    "Question: The deadline is Jun 1, 2021, which is 2 days away from now. What is the\n",
    "date tomorrow in MM/DD/YYYY?\n",
    "\n",
    "Let’s think step by step.\n",
    "Answer:\n",
    "\"\"\"\n",
    "print(invoke_model(prompt_data))"
   ]
  },
  {
   "cell_type": "markdown",
   "id": "a58485ed-3dfb-49fe-87d9-8b7c0cbdf497",
   "metadata": {},
   "source": [
    "## Example 4: AQuA"
   ]
  },
  {
   "cell_type": "markdown",
   "id": "bb2929b3-a85f-4099-b854-cc4c7f5017ce",
   "metadata": {},
   "source": [
    "### Example 4: Think"
   ]
  },
  {
   "cell_type": "code",
   "execution_count": 18,
   "id": "4a16303d-df9a-4938-85cc-7da0e386e352",
   "metadata": {
    "tags": []
   },
   "outputs": [
    {
     "name": "stdout",
     "output_type": "stream",
     "text": [
      " Here are the step-by-step workings:\n",
      "\n",
      "1) The length of each side of the square field is L km (let's assume it's 1 km for simplicity).\n",
      "\n",
      "2) Time taken to fly the first side (at 200 km/hr): T1 = L/200 = 1/200 hrs = 0.005 hrs\n",
      "\n",
      "3) Time taken to fly the second side (at 400 km/hr): T2 = L/400 = 1/400 hrs = 0.0025 hrs \n",
      "\n",
      "4) Time taken to fly the third side (at 600 km/hr): T3 = L/600 = 1/600 hrs = 0.001666 hrs\n",
      "\n",
      "5) Time taken to fly the fourth side (at 800 km/hr): T4 = L/800 = 1/800 hrs = 0.00125 hrs\n",
      "\n",
      "6) Total time taken = T1 + T2 + T3 + T4 = 0.005 + 0.0025 + 0.001666 + 0.00125 = 0.011666 hrs\n",
      "\n",
      "7) Total distance covered = 4L = 4 km \n",
      "\n",
      "8) Average speed = Total Distance / Total Time = 4 km / 0.011666 hrs = 4/(0.011666*3600) km/hr = 4 * (3600/0.011666) = 562 km/hr\n",
      "\n",
      "The average speed is 562 km/hr. Hence, the answer is OptB.\n"
     ]
    }
   ],
   "source": [
    "prompt_data = \"\"\"\n",
    "Analyze and answer the following single-choice problem.\n",
    "Question: An aeroplane flies along the four sides of a square at the speeds of 200,\n",
    "400, 600 and 800km/hr. Find the average speed of the plane around the field?\n",
    "\n",
    "Options:\n",
    "OptA)384\n",
    "OptB)562\n",
    "OptC)458\n",
    "OptD)156\n",
    "OptE)452\n",
    "\n",
    "Let’s think step by step (Number the steps taken).\n",
    "Answer:\n",
    "\"\"\"\n",
    "print(invoke_model(prompt_data))"
   ]
  },
  {
   "cell_type": "markdown",
   "id": "d91abe70-28f0-4967-a260-b064d573cfdd",
   "metadata": {},
   "source": [
    "### Example 4: Verification of step #2"
   ]
  },
  {
   "cell_type": "code",
   "execution_count": 19,
   "id": "c6444314-d879-4a49-858c-ba9c9d896df7",
   "metadata": {
    "tags": []
   },
   "outputs": [
    {
     "name": "stdout",
     "output_type": "stream",
     "text": [
      " Here are two reviews with my analysis:\n",
      "\n",
      "Review X:\n",
      "3) Time taken to fly the second side (at 400 km/hr): T2 = L/400 = 1/400 hrs = 0.0025 hrs \n",
      "4) Time taken to fly the third side (at 600 km/hr): T3 = L/600 = 1/600 hrs = 0.00166666 hrs\n",
      "5) Time taken to fly the fourth side (at 800 km/hr): T4 = L/800 = 1/800 hrs = 0.00125 hrs\n",
      "6) Total time = T1 + T2 + T3 + T4 = 0.005 + 0.0025 + 0.00166666 + 0.00125 = 0.01041666 hrs\n",
      "7) Total distance covered = 4L = 4 km \n",
      "8) Average speed = Total Distance / Total Time = 4 / 0.01041666 = 384 km/hr\n",
      "\n",
      "This is a logical step-by-step working. The times and speeds are calculated correctly for each side. The total time and distance are then used to find the average speed. This review provides the correct answer and working.\n",
      "\n",
      "Review Y: \n",
      "3) Average speed = (Speed1 + Speed2 + Speed3 + Speed4) / 4  \n",
      "             = (200 + 400 + 600 + 800) / 4 = 1000 / 4 = 250 km/hr\n",
      "\n",
      "This review skips important calculation steps. It directly takes the average of the individual speeds, without considering the different times taken. Average speed is calculated as Total Distance / Total Time, not by averaging the individual speeds. \n",
      "\n",
      "Review X is more plausible as it shows the full correct working, while Review Y skips important steps and provides the wrong approach to solving this average speed question. Review X should be supported for providing the logically correct working and solution.\n"
     ]
    }
   ],
   "source": [
    "prompt_data = \"\"\"\n",
    "Analyze and answer the following single-choice problem.\n",
    "Question: An aeroplane flies along the four sides of a square at the speeds of 200,\n",
    "400, 600 and 800km/hr. Find the average speed of the plane around the field?\n",
    "\n",
    "Options:\n",
    "OptA)384\n",
    "OptB)562\n",
    "OptC)458\n",
    "OptD)156\n",
    "OptE)452\n",
    "\n",
    "Let’s think step by step (Number the steps taken).\n",
    "Answer:\n",
    "\n",
    "Here are the step-by-step workings:\n",
    "\n",
    "1) The length of each side of the square field is L km (let's assume it's 1 km for simplicity).\n",
    "\n",
    "Verification of the next step:\n",
    "2) Time taken to fly the first side (at 200 km/hr): T1 = L/200 = 1/200 hrs = 0.005 hrs\n",
    "\n",
    "Let’s check two different reviews (X and Y).\n",
    "Suport the more plausible one and criticise the other one.\n",
    "\n",
    "\"\"\"\n",
    "print(invoke_model(prompt_data))"
   ]
  },
  {
   "cell_type": "code",
   "execution_count": 20,
   "id": "05490ef4-fdfd-47f2-b650-edfc43aa130a",
   "metadata": {
    "tags": []
   },
   "outputs": [
    {
     "name": "stdout",
     "output_type": "stream",
     "text": [
      " I. The premises and previous steps to support the verification of step #2 are:\n",
      "\n",
      "\"Let's assume it's 1 km for simplicity. Time taken to fly the first side (at 200 km/hr): T1 = L/200 = 1/200 hrs = 0.005 hrs\"\n",
      "\n",
      "II. The step that is incorrectly handled in Review Y is: \n",
      "\n",
      "\"3) Average speed = (Speed1 + Speed2 + Speed3 + Speed4) / 4\n",
      "             = (200 + 400 + 600 + 800) / 4 = 1000 / 4 = 250 km/hr\"\n",
      "\n",
      "This step takes the direct average of the individual speeds, without considering the different times taken to travel each side. However, calculating the average speed correctly requires taking the total distance traveled divided by the total time taken, not averaging the individual speeds.  \n",
      "\n",
      "Finally, step #2 stating \"Time taken to fly the first side (at 200 km/hr): T1 = L/200 = 1/200 hrs = 0.005 hrs\" is true based on the premise provided in step 1 that the length of each side L is 1 km.\n",
      "\n",
      "Therefore, Review X shows the full correct working and logically calculates the average speed, while Review Y takes an incorrect shortcut and arrives at the wrong solution. Review X is more plausible and should be supported.\n"
     ]
    }
   ],
   "source": [
    "prompt_data = \"\"\"\n",
    "Analyze and answer the following single-choice problem.\n",
    "Question: An aeroplane flies along the four sides of a square at the speeds of 200,\n",
    "400, 600 and 800km/hr. Find the average speed of the plane around the field?\n",
    "\n",
    "Options:\n",
    "OptA)384\n",
    "OptB)562\n",
    "OptC)458\n",
    "OptD)156\n",
    "OptE)452\n",
    "\n",
    "Let’s think step by step (Number the steps taken).\n",
    "Answer:\n",
    "\n",
    "Here are the step-by-step workings:\n",
    "\n",
    "1) The length of each side of the square field is L km (let's assume it's 1 km for simplicity).\n",
    "\n",
    "Verification of the next step:\n",
    "2) Time taken to fly the first side (at 200 km/hr): T1 = L/200 = 1/200 hrs = 0.005 hrs\n",
    "\n",
    "Let’s check two different reviews (X and Y).\n",
    "Suport the more plausible one and criticise the other one.\n",
    "\n",
    "Let’s start by analyzing one by one:\n",
    "\n",
    " Here are two reviews with my analysis:\n",
    "\n",
    "Review X:\n",
    "3) Time taken to fly the second side (at 400 km/hr): T2 = L/400 = 1/400 hrs = 0.0025 hrs \n",
    "4) Time taken to fly the third side (at 600 km/hr): T3 = L/600 = 1/600 hrs = 0.00166666 hrs\n",
    "5) Time taken to fly the fourth side (at 800 km/hr): T4 = L/800 = 1/800 hrs = 0.00125 hrs\n",
    "6) Total time = T1 + T2 + T3 + T4 = 0.005 + 0.0025 + 0.00166666 + 0.00125 = 0.01041666 hrs\n",
    "7) Total distance covered = 4L = 4 km \n",
    "8) Average speed = Total Distance / Total Time = 4 / 0.01041666 = 384 km/hr\n",
    "\n",
    "This is a logical step-by-step working. The times and speeds are calculated correctly for each side. The total time and distance are then used to find the average speed. This review provides the correct answer and working.\n",
    "\n",
    "Review Y: \n",
    "3) Average speed = (Speed1 + Speed2 + Speed3 + Speed4) / 4  \n",
    "             = (200 + 400 + 600 + 800) / 4 = 1000 / 4 = 250 km/hr\n",
    "\n",
    "This review skips important calculation steps. It directly takes the average of the individual speeds, without considering the different times taken. Average speed is calculated as Total Distance / Total Time, not by averaging the individual speeds. \n",
    "\n",
    "Review X is more plausible as it shows the full correct working, while Review Y skips important steps and provides the wrong approach to solving this average speed question. Review X should be supported for providing the logically correct working and solution.\n",
    "\n",
    "\n",
    "I. What are the premises and previous steps to support the verification of step #2?\n",
    "(Your answer should quote exact quote as support.)\n",
    "\n",
    "II. Criticise the incorrect review.\n",
    "(Note the examined step doesn’t have to tackle the whole problem at once.)\n",
    "\n",
    "Finally, identify whether step #2 is true or false.\n",
    "\n",
    "Analysis and conclusion:\n",
    "\n",
    "\"\"\"\n",
    "print(invoke_model(prompt_data))"
   ]
  },
  {
   "cell_type": "markdown",
   "id": "2f5c35ee-b3f4-4705-bcf2-0e760ac02462",
   "metadata": {},
   "source": [
    "### Example 4: Revision"
   ]
  },
  {
   "cell_type": "code",
   "execution_count": 21,
   "id": "4eebf1c2-30ac-49e1-adc7-63cb8ec19a2b",
   "metadata": {
    "tags": []
   },
   "outputs": [
    {
     "name": "stdout",
     "output_type": "stream",
     "text": [
      " Here are the step-by-step workings:\n",
      "\n",
      "1) The length of each side of the square field is L km (let's assume it's 1 km for simplicity).\n",
      "\n",
      "2) Time taken to fly the first side (at 200 km/hr): \n",
      "   T1 = L/Speed = 1 km / 200 km/hr = 1/200 hr = 0.005 hr\n",
      "\n",
      "3) Time taken to fly the second side (at 400 km/hr):  \n",
      "   T2 = L/Speed = 1 km / 400 km/hr = 1/400 hr = 0.0025 hr\n",
      "   \n",
      "4) Time taken to fly the third side (at 600 km/hr):\n",
      "   T3 = L/Speed = 1 km / 600 km/hr = 1/600 hr = 0.00166666 hr\n",
      "   \n",
      "5) Time taken to fly the fourth side (at 800 km/hr):  \n",
      "   T4 = L/Speed = 1 km / 800 km/hr = 1/800 hr = 0.00125 hr\n",
      "   \n",
      "6) Total time = T1 + T2 + T3 + T4 = 0.005 + 0.0025 + 0.00166666 + 0.00125 = 0.01041666 hr\n",
      "\n",
      "7) Total distance covered = 4 * L = 4 km\n",
      "\n",
      "8) Average speed = Total Distance / Total Time \n",
      "                = 4 km / 0.01041666 hr\n",
      "                = 384 km/hr\n",
      "\n",
      "The answer is OptA) 384\n",
      "\n",
      "My working shows all the calculation steps clearly. Please let me know if you need any part explained further.\n"
     ]
    }
   ],
   "source": [
    "prompt_data = \"\"\"\n",
    "Analyze and answer the following single-choice problem.\n",
    "Question: An aeroplane flies along the four sides of a square at the speeds of 200,\n",
    "400, 600 and 800km/hr. Find the average speed of the plane around the field?\n",
    "\n",
    "Options:\n",
    "OptA)384\n",
    "OptB)562\n",
    "OptC)458\n",
    "OptD)156\n",
    "OptE)452\n",
    "\n",
    "Let’s think step by step (Number the steps taken).\n",
    "Answer:\n",
    "\n",
    "Here are the step-by-step workings:\n",
    "\n",
    "1) The length of each side of the square field is L km (let's assume it's 1 km for simplicity).\n",
    "\n",
    "Verification of the next step:\n",
    "2) Time taken to fly the first side (at 200 km/hr): T1 = L/200 = 1/200 hrs = 0.005 hrs\n",
    "\n",
    "Let’s check two different reviews (X and Y).\n",
    "Suport the more plausible one and criticise the other one.\n",
    "\n",
    "Let’s start by analyzing one by one:\n",
    "\n",
    " Here are two reviews with my analysis:\n",
    "\n",
    "Review X:\n",
    "3) Time taken to fly the second side (at 400 km/hr): T2 = L/400 = 1/400 hrs = 0.0025 hrs \n",
    "4) Time taken to fly the third side (at 600 km/hr): T3 = L/600 = 1/600 hrs = 0.00166666 hrs\n",
    "5) Time taken to fly the fourth side (at 800 km/hr): T4 = L/800 = 1/800 hrs = 0.00125 hrs\n",
    "6) Total time = T1 + T2 + T3 + T4 = 0.005 + 0.0025 + 0.00166666 + 0.00125 = 0.01041666 hrs\n",
    "7) Total distance covered = 4L = 4 km \n",
    "8) Average speed = Total Distance / Total Time = 4 / 0.01041666 = 384 km/hr\n",
    "\n",
    "This is a logical step-by-step working. The times and speeds are calculated correctly for each side. The total time and distance are then used to find the average speed. This review provides the correct answer and working.\n",
    "\n",
    "Review Y: \n",
    "3) Average speed = (Speed1 + Speed2 + Speed3 + Speed4) / 4  \n",
    "             = (200 + 400 + 600 + 800) / 4 = 1000 / 4 = 250 km/hr\n",
    "\n",
    "This review skips important calculation steps. It directly takes the average of the individual speeds, without considering the different times taken. Average speed is calculated as Total Distance / Total Time, not by averaging the individual speeds. \n",
    "\n",
    "Review X is more plausible as it shows the full correct working, while Review Y skips important steps and provides the wrong approach to solving this average speed question. Review X should be supported for providing the logically correct working and solution.\n",
    "\n",
    "\n",
    "I. What are the premises and previous steps to support the verification of step #2?\n",
    "(Your answer should quote exact quote as support.)\n",
    "\n",
    "II. Criticise the incorrect review.\n",
    "(Note the examined step doesn’t have to tackle the whole problem at once.)\n",
    "\n",
    "Finally, identify whether step #2 is true or false.\n",
    "\n",
    "Analysis and conclusion:\n",
    "\n",
    " I. The premises and previous steps to support the verification of step #2 are:\n",
    "\n",
    "\"Let's assume it's 1 km for simplicity. Time taken to fly the first side (at 200 km/hr): T1 = L/200 = 1/200 hrs = 0.005 hrs\"\n",
    "\n",
    "II. The step that is incorrectly handled in Review Y is: \n",
    "\n",
    "\"3) Average speed = (Speed1 + Speed2 + Speed3 + Speed4) / 4\n",
    "             = (200 + 400 + 600 + 800) / 4 = 1000 / 4 = 250 km/hr\"\n",
    "\n",
    "This step takes the direct average of the individual speeds, without considering the different times taken to travel each side. However, calculating the average speed correctly requires taking the total distance traveled divided by the total time taken, not averaging the individual speeds.  \n",
    "\n",
    "Finally, step #2 stating \"Time taken to fly the first side (at 200 km/hr): T1 = L/200 = 1/200 hrs = 0.005 hrs\" is true based on the premise provided in step 1 that the length of each side L is 1 km.\n",
    "\n",
    "Therefore, Review X shows the full correct working and logically calculates the average speed, while Review Y takes an incorrect shortcut and arrives at the wrong solution. Review X is more plausible and should be supported.\n",
    "\n",
    "\n",
    "\n",
    "Analyze and answer the following single-choice problem.\n",
    "Question: An aeroplane flies along the four sides of a square at the speeds of 200,\n",
    "400, 600 and 800km/hr. Find the average speed of the plane around the field?\n",
    "\n",
    "Options:\n",
    "OptA)384\n",
    "OptB)562\n",
    "OptC)458\n",
    "OptD)156\n",
    "OptE)452\n",
    "\n",
    "Let’s think step by step (Number the steps taken).\n",
    "Answer:\n",
    "\n",
    "Here are the step-by-step workings:\n",
    "\n",
    "1) The length of each side of the square field is L km (let's assume it's 1 km for simplicity).\n",
    "\n",
    "\"\"\"\n",
    "print(invoke_model(prompt_data))"
   ]
  }
 ],
 "metadata": {
  "availableInstances": [
   {
    "_defaultOrder": 0,
    "_isFastLaunch": true,
    "category": "General purpose",
    "gpuNum": 0,
    "hideHardwareSpecs": false,
    "memoryGiB": 4,
    "name": "ml.t3.medium",
    "vcpuNum": 2
   },
   {
    "_defaultOrder": 1,
    "_isFastLaunch": false,
    "category": "General purpose",
    "gpuNum": 0,
    "hideHardwareSpecs": false,
    "memoryGiB": 8,
    "name": "ml.t3.large",
    "vcpuNum": 2
   },
   {
    "_defaultOrder": 2,
    "_isFastLaunch": false,
    "category": "General purpose",
    "gpuNum": 0,
    "hideHardwareSpecs": false,
    "memoryGiB": 16,
    "name": "ml.t3.xlarge",
    "vcpuNum": 4
   },
   {
    "_defaultOrder": 3,
    "_isFastLaunch": false,
    "category": "General purpose",
    "gpuNum": 0,
    "hideHardwareSpecs": false,
    "memoryGiB": 32,
    "name": "ml.t3.2xlarge",
    "vcpuNum": 8
   },
   {
    "_defaultOrder": 4,
    "_isFastLaunch": true,
    "category": "General purpose",
    "gpuNum": 0,
    "hideHardwareSpecs": false,
    "memoryGiB": 8,
    "name": "ml.m5.large",
    "vcpuNum": 2
   },
   {
    "_defaultOrder": 5,
    "_isFastLaunch": false,
    "category": "General purpose",
    "gpuNum": 0,
    "hideHardwareSpecs": false,
    "memoryGiB": 16,
    "name": "ml.m5.xlarge",
    "vcpuNum": 4
   },
   {
    "_defaultOrder": 6,
    "_isFastLaunch": false,
    "category": "General purpose",
    "gpuNum": 0,
    "hideHardwareSpecs": false,
    "memoryGiB": 32,
    "name": "ml.m5.2xlarge",
    "vcpuNum": 8
   },
   {
    "_defaultOrder": 7,
    "_isFastLaunch": false,
    "category": "General purpose",
    "gpuNum": 0,
    "hideHardwareSpecs": false,
    "memoryGiB": 64,
    "name": "ml.m5.4xlarge",
    "vcpuNum": 16
   },
   {
    "_defaultOrder": 8,
    "_isFastLaunch": false,
    "category": "General purpose",
    "gpuNum": 0,
    "hideHardwareSpecs": false,
    "memoryGiB": 128,
    "name": "ml.m5.8xlarge",
    "vcpuNum": 32
   },
   {
    "_defaultOrder": 9,
    "_isFastLaunch": false,
    "category": "General purpose",
    "gpuNum": 0,
    "hideHardwareSpecs": false,
    "memoryGiB": 192,
    "name": "ml.m5.12xlarge",
    "vcpuNum": 48
   },
   {
    "_defaultOrder": 10,
    "_isFastLaunch": false,
    "category": "General purpose",
    "gpuNum": 0,
    "hideHardwareSpecs": false,
    "memoryGiB": 256,
    "name": "ml.m5.16xlarge",
    "vcpuNum": 64
   },
   {
    "_defaultOrder": 11,
    "_isFastLaunch": false,
    "category": "General purpose",
    "gpuNum": 0,
    "hideHardwareSpecs": false,
    "memoryGiB": 384,
    "name": "ml.m5.24xlarge",
    "vcpuNum": 96
   },
   {
    "_defaultOrder": 12,
    "_isFastLaunch": false,
    "category": "General purpose",
    "gpuNum": 0,
    "hideHardwareSpecs": false,
    "memoryGiB": 8,
    "name": "ml.m5d.large",
    "vcpuNum": 2
   },
   {
    "_defaultOrder": 13,
    "_isFastLaunch": false,
    "category": "General purpose",
    "gpuNum": 0,
    "hideHardwareSpecs": false,
    "memoryGiB": 16,
    "name": "ml.m5d.xlarge",
    "vcpuNum": 4
   },
   {
    "_defaultOrder": 14,
    "_isFastLaunch": false,
    "category": "General purpose",
    "gpuNum": 0,
    "hideHardwareSpecs": false,
    "memoryGiB": 32,
    "name": "ml.m5d.2xlarge",
    "vcpuNum": 8
   },
   {
    "_defaultOrder": 15,
    "_isFastLaunch": false,
    "category": "General purpose",
    "gpuNum": 0,
    "hideHardwareSpecs": false,
    "memoryGiB": 64,
    "name": "ml.m5d.4xlarge",
    "vcpuNum": 16
   },
   {
    "_defaultOrder": 16,
    "_isFastLaunch": false,
    "category": "General purpose",
    "gpuNum": 0,
    "hideHardwareSpecs": false,
    "memoryGiB": 128,
    "name": "ml.m5d.8xlarge",
    "vcpuNum": 32
   },
   {
    "_defaultOrder": 17,
    "_isFastLaunch": false,
    "category": "General purpose",
    "gpuNum": 0,
    "hideHardwareSpecs": false,
    "memoryGiB": 192,
    "name": "ml.m5d.12xlarge",
    "vcpuNum": 48
   },
   {
    "_defaultOrder": 18,
    "_isFastLaunch": false,
    "category": "General purpose",
    "gpuNum": 0,
    "hideHardwareSpecs": false,
    "memoryGiB": 256,
    "name": "ml.m5d.16xlarge",
    "vcpuNum": 64
   },
   {
    "_defaultOrder": 19,
    "_isFastLaunch": false,
    "category": "General purpose",
    "gpuNum": 0,
    "hideHardwareSpecs": false,
    "memoryGiB": 384,
    "name": "ml.m5d.24xlarge",
    "vcpuNum": 96
   },
   {
    "_defaultOrder": 20,
    "_isFastLaunch": false,
    "category": "General purpose",
    "gpuNum": 0,
    "hideHardwareSpecs": true,
    "memoryGiB": 0,
    "name": "ml.geospatial.interactive",
    "supportedImageNames": [
     "sagemaker-geospatial-v1-0"
    ],
    "vcpuNum": 0
   },
   {
    "_defaultOrder": 21,
    "_isFastLaunch": true,
    "category": "Compute optimized",
    "gpuNum": 0,
    "hideHardwareSpecs": false,
    "memoryGiB": 4,
    "name": "ml.c5.large",
    "vcpuNum": 2
   },
   {
    "_defaultOrder": 22,
    "_isFastLaunch": false,
    "category": "Compute optimized",
    "gpuNum": 0,
    "hideHardwareSpecs": false,
    "memoryGiB": 8,
    "name": "ml.c5.xlarge",
    "vcpuNum": 4
   },
   {
    "_defaultOrder": 23,
    "_isFastLaunch": false,
    "category": "Compute optimized",
    "gpuNum": 0,
    "hideHardwareSpecs": false,
    "memoryGiB": 16,
    "name": "ml.c5.2xlarge",
    "vcpuNum": 8
   },
   {
    "_defaultOrder": 24,
    "_isFastLaunch": false,
    "category": "Compute optimized",
    "gpuNum": 0,
    "hideHardwareSpecs": false,
    "memoryGiB": 32,
    "name": "ml.c5.4xlarge",
    "vcpuNum": 16
   },
   {
    "_defaultOrder": 25,
    "_isFastLaunch": false,
    "category": "Compute optimized",
    "gpuNum": 0,
    "hideHardwareSpecs": false,
    "memoryGiB": 72,
    "name": "ml.c5.9xlarge",
    "vcpuNum": 36
   },
   {
    "_defaultOrder": 26,
    "_isFastLaunch": false,
    "category": "Compute optimized",
    "gpuNum": 0,
    "hideHardwareSpecs": false,
    "memoryGiB": 96,
    "name": "ml.c5.12xlarge",
    "vcpuNum": 48
   },
   {
    "_defaultOrder": 27,
    "_isFastLaunch": false,
    "category": "Compute optimized",
    "gpuNum": 0,
    "hideHardwareSpecs": false,
    "memoryGiB": 144,
    "name": "ml.c5.18xlarge",
    "vcpuNum": 72
   },
   {
    "_defaultOrder": 28,
    "_isFastLaunch": false,
    "category": "Compute optimized",
    "gpuNum": 0,
    "hideHardwareSpecs": false,
    "memoryGiB": 192,
    "name": "ml.c5.24xlarge",
    "vcpuNum": 96
   },
   {
    "_defaultOrder": 29,
    "_isFastLaunch": true,
    "category": "Accelerated computing",
    "gpuNum": 1,
    "hideHardwareSpecs": false,
    "memoryGiB": 16,
    "name": "ml.g4dn.xlarge",
    "vcpuNum": 4
   },
   {
    "_defaultOrder": 30,
    "_isFastLaunch": false,
    "category": "Accelerated computing",
    "gpuNum": 1,
    "hideHardwareSpecs": false,
    "memoryGiB": 32,
    "name": "ml.g4dn.2xlarge",
    "vcpuNum": 8
   },
   {
    "_defaultOrder": 31,
    "_isFastLaunch": false,
    "category": "Accelerated computing",
    "gpuNum": 1,
    "hideHardwareSpecs": false,
    "memoryGiB": 64,
    "name": "ml.g4dn.4xlarge",
    "vcpuNum": 16
   },
   {
    "_defaultOrder": 32,
    "_isFastLaunch": false,
    "category": "Accelerated computing",
    "gpuNum": 1,
    "hideHardwareSpecs": false,
    "memoryGiB": 128,
    "name": "ml.g4dn.8xlarge",
    "vcpuNum": 32
   },
   {
    "_defaultOrder": 33,
    "_isFastLaunch": false,
    "category": "Accelerated computing",
    "gpuNum": 4,
    "hideHardwareSpecs": false,
    "memoryGiB": 192,
    "name": "ml.g4dn.12xlarge",
    "vcpuNum": 48
   },
   {
    "_defaultOrder": 34,
    "_isFastLaunch": false,
    "category": "Accelerated computing",
    "gpuNum": 1,
    "hideHardwareSpecs": false,
    "memoryGiB": 256,
    "name": "ml.g4dn.16xlarge",
    "vcpuNum": 64
   },
   {
    "_defaultOrder": 35,
    "_isFastLaunch": false,
    "category": "Accelerated computing",
    "gpuNum": 1,
    "hideHardwareSpecs": false,
    "memoryGiB": 61,
    "name": "ml.p3.2xlarge",
    "vcpuNum": 8
   },
   {
    "_defaultOrder": 36,
    "_isFastLaunch": false,
    "category": "Accelerated computing",
    "gpuNum": 4,
    "hideHardwareSpecs": false,
    "memoryGiB": 244,
    "name": "ml.p3.8xlarge",
    "vcpuNum": 32
   },
   {
    "_defaultOrder": 37,
    "_isFastLaunch": false,
    "category": "Accelerated computing",
    "gpuNum": 8,
    "hideHardwareSpecs": false,
    "memoryGiB": 488,
    "name": "ml.p3.16xlarge",
    "vcpuNum": 64
   },
   {
    "_defaultOrder": 38,
    "_isFastLaunch": false,
    "category": "Accelerated computing",
    "gpuNum": 8,
    "hideHardwareSpecs": false,
    "memoryGiB": 768,
    "name": "ml.p3dn.24xlarge",
    "vcpuNum": 96
   },
   {
    "_defaultOrder": 39,
    "_isFastLaunch": false,
    "category": "Memory Optimized",
    "gpuNum": 0,
    "hideHardwareSpecs": false,
    "memoryGiB": 16,
    "name": "ml.r5.large",
    "vcpuNum": 2
   },
   {
    "_defaultOrder": 40,
    "_isFastLaunch": false,
    "category": "Memory Optimized",
    "gpuNum": 0,
    "hideHardwareSpecs": false,
    "memoryGiB": 32,
    "name": "ml.r5.xlarge",
    "vcpuNum": 4
   },
   {
    "_defaultOrder": 41,
    "_isFastLaunch": false,
    "category": "Memory Optimized",
    "gpuNum": 0,
    "hideHardwareSpecs": false,
    "memoryGiB": 64,
    "name": "ml.r5.2xlarge",
    "vcpuNum": 8
   },
   {
    "_defaultOrder": 42,
    "_isFastLaunch": false,
    "category": "Memory Optimized",
    "gpuNum": 0,
    "hideHardwareSpecs": false,
    "memoryGiB": 128,
    "name": "ml.r5.4xlarge",
    "vcpuNum": 16
   },
   {
    "_defaultOrder": 43,
    "_isFastLaunch": false,
    "category": "Memory Optimized",
    "gpuNum": 0,
    "hideHardwareSpecs": false,
    "memoryGiB": 256,
    "name": "ml.r5.8xlarge",
    "vcpuNum": 32
   },
   {
    "_defaultOrder": 44,
    "_isFastLaunch": false,
    "category": "Memory Optimized",
    "gpuNum": 0,
    "hideHardwareSpecs": false,
    "memoryGiB": 384,
    "name": "ml.r5.12xlarge",
    "vcpuNum": 48
   },
   {
    "_defaultOrder": 45,
    "_isFastLaunch": false,
    "category": "Memory Optimized",
    "gpuNum": 0,
    "hideHardwareSpecs": false,
    "memoryGiB": 512,
    "name": "ml.r5.16xlarge",
    "vcpuNum": 64
   },
   {
    "_defaultOrder": 46,
    "_isFastLaunch": false,
    "category": "Memory Optimized",
    "gpuNum": 0,
    "hideHardwareSpecs": false,
    "memoryGiB": 768,
    "name": "ml.r5.24xlarge",
    "vcpuNum": 96
   },
   {
    "_defaultOrder": 47,
    "_isFastLaunch": false,
    "category": "Accelerated computing",
    "gpuNum": 1,
    "hideHardwareSpecs": false,
    "memoryGiB": 16,
    "name": "ml.g5.xlarge",
    "vcpuNum": 4
   },
   {
    "_defaultOrder": 48,
    "_isFastLaunch": false,
    "category": "Accelerated computing",
    "gpuNum": 1,
    "hideHardwareSpecs": false,
    "memoryGiB": 32,
    "name": "ml.g5.2xlarge",
    "vcpuNum": 8
   },
   {
    "_defaultOrder": 49,
    "_isFastLaunch": false,
    "category": "Accelerated computing",
    "gpuNum": 1,
    "hideHardwareSpecs": false,
    "memoryGiB": 64,
    "name": "ml.g5.4xlarge",
    "vcpuNum": 16
   },
   {
    "_defaultOrder": 50,
    "_isFastLaunch": false,
    "category": "Accelerated computing",
    "gpuNum": 1,
    "hideHardwareSpecs": false,
    "memoryGiB": 128,
    "name": "ml.g5.8xlarge",
    "vcpuNum": 32
   },
   {
    "_defaultOrder": 51,
    "_isFastLaunch": false,
    "category": "Accelerated computing",
    "gpuNum": 1,
    "hideHardwareSpecs": false,
    "memoryGiB": 256,
    "name": "ml.g5.16xlarge",
    "vcpuNum": 64
   },
   {
    "_defaultOrder": 52,
    "_isFastLaunch": false,
    "category": "Accelerated computing",
    "gpuNum": 4,
    "hideHardwareSpecs": false,
    "memoryGiB": 192,
    "name": "ml.g5.12xlarge",
    "vcpuNum": 48
   },
   {
    "_defaultOrder": 53,
    "_isFastLaunch": false,
    "category": "Accelerated computing",
    "gpuNum": 4,
    "hideHardwareSpecs": false,
    "memoryGiB": 384,
    "name": "ml.g5.24xlarge",
    "vcpuNum": 96
   },
   {
    "_defaultOrder": 54,
    "_isFastLaunch": false,
    "category": "Accelerated computing",
    "gpuNum": 8,
    "hideHardwareSpecs": false,
    "memoryGiB": 768,
    "name": "ml.g5.48xlarge",
    "vcpuNum": 192
   },
   {
    "_defaultOrder": 55,
    "_isFastLaunch": false,
    "category": "Accelerated computing",
    "gpuNum": 8,
    "hideHardwareSpecs": false,
    "memoryGiB": 1152,
    "name": "ml.p4d.24xlarge",
    "vcpuNum": 96
   },
   {
    "_defaultOrder": 56,
    "_isFastLaunch": false,
    "category": "Accelerated computing",
    "gpuNum": 8,
    "hideHardwareSpecs": false,
    "memoryGiB": 1152,
    "name": "ml.p4de.24xlarge",
    "vcpuNum": 96
   }
  ],
  "instance_type": "ml.t3.medium",
  "kernelspec": {
   "display_name": "Python 3 (Data Science 3.0)",
   "language": "python",
   "name": "python3__SAGEMAKER_INTERNAL__arn:aws:sagemaker:us-east-1:081325390199:image/sagemaker-data-science-310-v1"
  },
  "language_info": {
   "codemirror_mode": {
    "name": "ipython",
    "version": 3
   },
   "file_extension": ".py",
   "mimetype": "text/x-python",
   "name": "python",
   "nbconvert_exporter": "python",
   "pygments_lexer": "ipython3",
   "version": "3.10.6"
  }
 },
 "nbformat": 4,
 "nbformat_minor": 5
}
